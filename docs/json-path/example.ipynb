{
 "cells": [
  {
   "cell_type": "markdown",
   "metadata": {},
   "source": [
    "# JSON Path example for Headwork\n",
    "\n",
    "We assume that we have the following table:\n",
    "\n",
    "| Name | Type |\n",
    "| --- | --- |\n",
    "| path | VARCHAR(255) |\n",
    "| data | JSONB |"
   ]
  },
  {
   "cell_type": "code",
   "execution_count": 30,
   "metadata": {},
   "outputs": [],
   "source": [
    "from mysql.connector import connect, Error\n",
    "\n",
    "connection = connect(\n",
    "    host=\"localhost\",\n",
    "    user=\"user\",\n",
    "    password=\"password\",\n",
    "    database=\"headwork\",\n",
    "    port=\"3306\"\n",
    ")\n",
    "\n",
    "cursor = connection.cursor()\n"
   ]
  },
  {
   "cell_type": "markdown",
   "metadata": {},
   "source": [
    "## Using JSON_EXTRACT\n",
    "\n",
    "MySQL's JSON PATH is limited, and conditional clauses, for example, are not directly available."
   ]
  },
  {
   "cell_type": "code",
   "execution_count": 31,
   "metadata": {},
   "outputs": [
    {
     "name": "stdout",
     "output_type": "stream",
     "text": [
      "json_path_query: ('[[{\"key\": \"category\", \"value\": \"fan_like_plate\"}, {\"key\": \"quality\", \"value\": 3}, {\"key\": \"confidence\", \"value\": 1}], [{\"key\": \"category\", \"value\": \"multiple_irregulars_1\"}, {\"key\": \"quality\", \"value\": 1}, {\"key\": \"confidence\", \"value\": 0}]]',)\n"
     ]
    }
   ],
   "source": [
    "json_path_query = \"SELECT JSON_EXTRACT(data, '$.data[*].body') FROM labelled_images WHERE path = '/images/1.dzi'\"\n",
    "cursor.execute(json_path_query)\n",
    "result = cursor.fetchall()\n",
    "print(\"json_path_query:\", result[0])"
   ]
  },
  {
   "cell_type": "markdown",
   "metadata": {},
   "source": [
    "## Using JSON_TABLE"
   ]
  },
  {
   "cell_type": "code",
   "execution_count": 32,
   "metadata": {},
   "outputs": [
    {
     "name": "stdout",
     "output_type": "stream",
     "text": [
      "json_table_query: [('#0333e168-4092-47e6-a6e0-0e2a3b631b16', 'category', 'fan_like_plate'), ('#0333e168-4092-47e6-a6e0-0e2a3b631b16', 'quality', '3'), ('#0333e168-4092-47e6-a6e0-0e2a3b631b16', 'confidence', '1'), ('#e8957ca3-6a91-4646-8107-173046aa9eb3', 'category', 'multiple_irregulars_1'), ('#e8957ca3-6a91-4646-8107-173046aa9eb3', 'quality', '1'), ('#e8957ca3-6a91-4646-8107-173046aa9eb3', 'confidence', '0')]\n",
      "avegage quality: (2.0,)\n"
     ]
    },
    {
     "data": {
      "text/plain": [
       "True"
      ]
     },
     "execution_count": 32,
     "metadata": {},
     "output_type": "execute_result"
    }
   ],
   "source": [
    "json_table_query = \"\"\"SELECT data.* \n",
    "FROM labelled_images, JSON_TABLE(labelled_images.data, '$.data[*]' COLUMNS (\n",
    "  id VARCHAR(255) path '$.id',\n",
    "  NESTED PATH '$.body[*]' COLUMNS (\n",
    "    key_v VARCHAR(255) path '$.key', \n",
    "    value VARCHAR(255) path '$.value')\n",
    "  )\n",
    ") AS data\"\"\"\n",
    "cursor.execute(json_table_query)\n",
    "result = cursor.fetchall()\n",
    "print(\"json_table_query:\", result)\n",
    "\n",
    "# Get average quality of images\n",
    "average_quality_query = \"\"\"SELECT AVG(data.value) AS average_quality\n",
    "FROM labelled_images, JSON_TABLE(labelled_images.data, '$.data[*]' COLUMNS (\n",
    "  id VARCHAR(255) path '$.id',\n",
    "  NESTED PATH '$.body[*]' COLUMNS (\n",
    "    key_v VARCHAR(255) path '$.key', \n",
    "    value VARCHAR(255) path '$.value')\n",
    "  )\n",
    ") AS data WHERE data.key_v = 'quality'\"\"\"\n",
    "cursor.execute(average_quality_query)\n",
    "result = cursor.fetchall()\n",
    "print(\"avegage quality:\", result[0])\n",
    "\n",
    "cursor.close()"
   ]
  }
 ],
 "metadata": {
  "kernelspec": {
   "display_name": ".venv",
   "language": "python",
   "name": "python3"
  },
  "language_info": {
   "codemirror_mode": {
    "name": "ipython",
    "version": 3
   },
   "file_extension": ".py",
   "mimetype": "text/x-python",
   "name": "python",
   "nbconvert_exporter": "python",
   "pygments_lexer": "ipython3",
   "version": "3.12.3"
  }
 },
 "nbformat": 4,
 "nbformat_minor": 2
}
